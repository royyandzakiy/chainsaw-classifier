{
 "cells": [
  {
   "cell_type": "code",
   "execution_count": 5,
   "metadata": {},
   "outputs": [
    {
     "ename": "NameError",
     "evalue": "name 'ipd' is not defined",
     "output_type": "error",
     "traceback": [
      "\u001b[1;31m---------------------------------------------------------------------------\u001b[0m",
      "\u001b[1;31mNameError\u001b[0m                                 Traceback (most recent call last)",
      "\u001b[1;32m<ipython-input-5-effc28d0deb6>\u001b[0m in \u001b[0;36m<module>\u001b[1;34m()\u001b[0m\n\u001b[0;32m     59\u001b[0m \u001b[1;33m\u001b[0m\u001b[0m\n\u001b[0;32m     60\u001b[0m \u001b[1;32mif\u001b[0m \u001b[0m__name__\u001b[0m \u001b[1;33m==\u001b[0m \u001b[1;34m\"__main__\"\u001b[0m\u001b[1;33m:\u001b[0m\u001b[1;33m\u001b[0m\u001b[0m\n\u001b[1;32m---> 61\u001b[1;33m     \u001b[0mmain\u001b[0m\u001b[1;33m(\u001b[0m\u001b[1;33m)\u001b[0m\u001b[1;33m\u001b[0m\u001b[0m\n\u001b[0m",
      "\u001b[1;32m<ipython-input-5-effc28d0deb6>\u001b[0m in \u001b[0;36mmain\u001b[1;34m()\u001b[0m\n\u001b[0;32m     50\u001b[0m             \u001b[0mtest_y\u001b[0m\u001b[1;33m.\u001b[0m\u001b[0mappend\u001b[0m\u001b[1;33m(\u001b[0m\u001b[1;36m0\u001b[0m\u001b[1;33m)\u001b[0m\u001b[1;33m\u001b[0m\u001b[0m\n\u001b[0;32m     51\u001b[0m \u001b[1;33m\u001b[0m\u001b[0m\n\u001b[1;32m---> 52\u001b[1;33m     \u001b[0mipd\u001b[0m\u001b[1;33m.\u001b[0m\u001b[0mdisplay\u001b[0m\u001b[1;33m(\u001b[0m\u001b[0mipd\u001b[0m\u001b[1;33m.\u001b[0m\u001b[0mAudio\u001b[0m\u001b[1;33m(\u001b[0m\u001b[0mfilepath\u001b[0m\u001b[1;33m)\u001b[0m\u001b[1;33m)\u001b[0m\u001b[1;33m\u001b[0m\u001b[0m\n\u001b[0m\u001b[0;32m     53\u001b[0m \u001b[1;33m\u001b[0m\u001b[0m\n\u001b[0;32m     54\u001b[0m     \u001b[1;31m# predict\u001b[0m\u001b[1;33m\u001b[0m\u001b[1;33m\u001b[0m\u001b[0m\n",
      "\u001b[1;31mNameError\u001b[0m: name 'ipd' is not defined"
     ]
    }
   ],
   "source": [
    "import scipy\n",
    "from scipy import signal\n",
    "from scipy.io import wavfile\n",
    "\n",
    "import librosa\n",
    "import os\n",
    "import wave\n",
    "import sys\n",
    "import numpy as np\n",
    "\n",
    "import pickle\n",
    "from sklearn.metrics import classification_report\n",
    "from sklearn.mixture import GaussianMixture\n",
    "\n",
    "import IPython.display as ipd\n",
    "\n",
    "directory = 'G:\\\\Downloads\\\\ESC-50-master\\\\ESC-50-master\\\\audio'\n",
    "model_filename = 'gmm_model_2.pkl'\n",
    "filename = '1-19898-B-41.wav'\n",
    "\n",
    "CHUNK = 1024\n",
    "pre_emphasis = 0.97\n",
    "\n",
    "test_X = []\n",
    "test_y = []\n",
    "\n",
    "def main():\n",
    "    filepath = os.path.join(directory, filename)\n",
    "\n",
    "    sample_rate, samples = wavfile.read(filepath)\n",
    "\n",
    "    target_sample_rate = (16000/sample_rate)*len(samples) # ini rumus dr mana?\n",
    "    samples = signal.resample(samples, int(target_sample_rate))\n",
    "\n",
    "    # emphasized_signal\n",
    "    samples = np.append(samples[0], samples[1:] - pre_emphasis * samples[:-1])\n",
    "    \n",
    "    window_size = 16000//2\n",
    "    for idx in range(0, len(samples), window_size//2):\n",
    "        window = samples[idx:idx+window_size]\n",
    "        if len(window) < window_size:\n",
    "            break\n",
    "\n",
    "        # mfcc sound\n",
    "        mfccs = librosa.feature.mfcc(window, n_mfcc=39, sr=sample_rate)\n",
    "        mfccs_temp = mfccs.mean(axis=0)\n",
    "        \n",
    "        test_X.append(mfccs_temp)\n",
    "        if filename.endswith(\"-41.wav\"):\n",
    "            test_y.append(1)\n",
    "        else:\n",
    "            test_y.append(0)\n",
    "    \n",
    "    ipd.display(ipd.Audio(filepath))\n",
    "\n",
    "    # predict\n",
    "    loaded_model = pickle.load(open(model_filename, 'rb'))\n",
    "    result = loaded_model.predict(test_X)\n",
    "    print(\"result: \")\n",
    "    print(classification_report(test_y, result))\n",
    "\n",
    "if __name__ == \"__main__\":\n",
    "    main()"
   ]
  }
 ],
 "metadata": {
  "kernelspec": {
   "display_name": "Python 3",
   "language": "python",
   "name": "python3"
  },
  "language_info": {
   "codemirror_mode": {
    "name": "ipython",
    "version": 3
   },
   "file_extension": ".py",
   "mimetype": "text/x-python",
   "name": "python",
   "nbconvert_exporter": "python",
   "pygments_lexer": "ipython3",
   "version": "3.5.4"
  }
 },
 "nbformat": 4,
 "nbformat_minor": 2
}
